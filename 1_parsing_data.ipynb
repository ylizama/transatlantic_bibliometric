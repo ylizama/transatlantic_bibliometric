{
 "cells": [
  {
   "cell_type": "code",
   "execution_count": 41,
   "metadata": {},
   "outputs": [],
   "source": [
    "records = []"
   ]
  },
  {
   "cell_type": "code",
   "execution_count": 42,
   "metadata": {},
   "outputs": [
    {
     "data": {
      "text/plain": [
       "397"
      ]
     },
     "execution_count": 42,
     "metadata": {},
     "output_type": "execute_result"
    }
   ],
   "source": [
    "countries_es_en_file = open('../lexicon/countries_ingles.txt', 'r')\n",
    "countries_es_en = countries_es_en_file.readlines()\n",
    "countries_es_en_file = open('../lexicon/paises_espannol.txt', 'r')\n",
    "countries_es_en = countries_es_en + countries_es_en_file.readlines()\n",
    "countries_es_en = [c.strip() for c in countries_es_en]\n",
    "len(countries_es_en)"
   ]
  },
  {
   "cell_type": "markdown",
   "metadata": {},
   "source": [
    "## Parsing Wos"
   ]
  },
  {
   "cell_type": "code",
   "execution_count": 43,
   "metadata": {},
   "outputs": [],
   "source": [
    "import ast"
   ]
  },
  {
   "cell_type": "code",
   "execution_count": 44,
   "metadata": {},
   "outputs": [
    {
     "name": "stdout",
     "output_type": "stream",
     "text": [
      "3507\n"
     ]
    }
   ],
   "source": [
    "import bibtexparser\n",
    "\n",
    "with open('data/wos.bib') as wos_file:\n",
    "    wos_text = wos_file.read()\n",
    "\n",
    "wos_db = bibtexparser.loads(wos_text)\n",
    "print(len(wos_db.entries))"
   ]
  },
  {
   "cell_type": "code",
   "execution_count": 45,
   "metadata": {},
   "outputs": [],
   "source": [
    "def getCountry(text):\n",
    "    for w in countries_es_en:\n",
    "        if w in text:\n",
    "            if w == 'USA':\n",
    "                return 'United States'\n",
    "            return w\n",
    "    return ''\n",
    "def getAffiliationWOS(text):\n",
    "        for w in text.split(','):\n",
    "            if 'Univ' in w:\n",
    "                return w\n",
    "def getReferencesScopus(text):\n",
    "    text = text.replace('cited By', '')\n",
    "    try:\n",
    "        return int(text.strip())\n",
    "    except:\n",
    "        return 0"
   ]
  },
  {
   "cell_type": "code",
   "execution_count": 46,
   "metadata": {},
   "outputs": [],
   "source": [
    "records_wos = []"
   ]
  },
  {
   "cell_type": "code",
   "execution_count": 47,
   "metadata": {},
   "outputs": [
    {
     "name": "stdout",
     "output_type": "stream",
     "text": [
      "3507\n"
     ]
    }
   ],
   "source": [
    "for entry in wos_db.entries:\n",
    "    record = { 'id': '',\n",
    "               'title': '',\n",
    "               'type':'',\n",
    "               'abstract':'', \n",
    "               'author': '',\n",
    "               'country_publication':'',\n",
    "               'publisher':'',\n",
    "               'keywords':'',\n",
    "               'keywords-plus':'',\n",
    "               'journal':'',\n",
    "               'issn':'',\n",
    "               'lang':'',\n",
    "               'categories':'',\n",
    "               'affiliation':'',\n",
    "               'affiliation_pais': '',\n",
    "               'eissn':'',\n",
    "               'year': '',\n",
    "               'volume':'',\n",
    "               'usage':'',\n",
    "               'research-areas':'',\n",
    "               'number-of-cited-references':'',\n",
    "               'cited-references':'',\n",
    "               'link':'',\n",
    "               'source':'Web of Science'    \n",
    "             }\n",
    "    \n",
    "    record['id'] = entry['unique-id']\n",
    "    record['title'] = entry['title']\n",
    "    record['type'] = entry['ENTRYTYPE']\n",
    "    if 'link' in entry:\n",
    "        record['link'] = entry['link']\n",
    "    if 'abstract' in entry:\n",
    "        record['abstract'] = entry['abstract']\n",
    "    if 'author' in entry:\n",
    "        record['author'] = entry['author']\n",
    "    if 'address' in entry:\n",
    "        record['country_publication'] = getCountry(entry['address'])\n",
    "    if 'publisher' in entry:\n",
    "        record['publisher'] = entry['publisher']\n",
    "    if 'keyword' in entry:\n",
    "        record['keywords'] =  entry['keyword'].strip(';')\n",
    "    if 'keywords-plus' in entry:\n",
    "        record['keywords-plus'] = entry['keywords-plus'].strip(';')\n",
    "    if 'journal' in entry:\n",
    "        record['journal'] = entry['journal']\n",
    "    if 'issn' in entry:\n",
    "        record['issn'] = entry['issn']\n",
    "    if 'language' in entry:\n",
    "        record['lang'] = entry['language']\n",
    "    if 'web-of-science-categories' in entry:\n",
    "        record['categories'] = entry['web-of-science-categories'].strip(',')  \n",
    "    if 'affiliation' in entry:\n",
    "        record['affiliation'] = getAffiliationWOS(entry['affiliation'])\n",
    "        record['affiliation_pais'] = getCountry(entry['affiliation'])\n",
    "    if 'eissn' in entry:\n",
    "        record['eissn'] = entry['eissn']\n",
    "    if 'year' in entry:\n",
    "        record['year'] = entry['year']\n",
    "    if 'volume' in entry:\n",
    "        record['volume'] = entry['volume']\n",
    "    if 'usage-count-since-2013' in entry:\n",
    "        record['usage'] = entry['usage-count-since-2013']\n",
    "    if 'research-areas' in entry:    \n",
    "        record['research-areas'] = entry['research-areas']\n",
    "    if  'number-of-cited-references' in entry:\n",
    "        record['number-of-cited-references'] = entry['number-of-cited-references']\n",
    "    if 'cited-references' in entry:\n",
    "        record['cited-references'] = entry['cited-references'].split('\\n')\n",
    "    records_wos.append(record)\n",
    "print(len(records_wos))"
   ]
  },
  {
   "cell_type": "markdown",
   "metadata": {},
   "source": [
    "## Parsing Scopus"
   ]
  },
  {
   "cell_type": "code",
   "execution_count": 48,
   "metadata": {},
   "outputs": [],
   "source": [
    "records_scopus = []"
   ]
  },
  {
   "cell_type": "code",
   "execution_count": 49,
   "metadata": {},
   "outputs": [
    {
     "name": "stdout",
     "output_type": "stream",
     "text": [
      "3767\n"
     ]
    }
   ],
   "source": [
    "with open('data/scopus.bib') as scopus_file:\n",
    "    scopus_text = scopus_file.read()\n",
    "\n",
    "scopus_db = bibtexparser.loads(scopus_text)\n",
    "print(len(scopus_db.entries))"
   ]
  },
  {
   "cell_type": "code",
   "execution_count": 50,
   "metadata": {},
   "outputs": [
    {
     "name": "stdout",
     "output_type": "stream",
     "text": [
      "3767\n"
     ]
    }
   ],
   "source": [
    "for entry in scopus_db.entries:\n",
    "    record = { 'id': '',\n",
    "               'title': '',\n",
    "               'type':'',\n",
    "               'abstract':'', \n",
    "               'author': '',\n",
    "               'country_publication':'',\n",
    "               'publisher':'',\n",
    "               'keywords':'',\n",
    "               'keywords-plus':'',\n",
    "               'journal':'',\n",
    "               'issn':'',\n",
    "               'lang':'',\n",
    "               'categories':'',\n",
    "               'affiliation':'',\n",
    "               'affiliation_pais': '',\n",
    "               'eissn':'',\n",
    "               'year': '',\n",
    "               'volume':'',\n",
    "               'usage':'',\n",
    "               'research-areas':'',\n",
    "               'number-of-cited-references':'',\n",
    "               'cited-references':'',\n",
    "               'link':'',\n",
    "               'source':'Scopus'    \n",
    "             }\n",
    "    \n",
    "    record['id'] = entry['ID']\n",
    "    record['title'] = entry['title']\n",
    "    record['type'] = entry['ENTRYTYPE']\n",
    "    if 'link' in entry:\n",
    "        record['link'] = entry['link']\n",
    "    if 'abstract' in entry:\n",
    "        record['abstract'] = entry['abstract']\n",
    "    if 'author' in entry:\n",
    "        record['author'] = entry['author']\n",
    "    if 'publisher' in entry:\n",
    "        record['publisher'] = entry['publisher']\n",
    "    if 'author-keywords' in entry:\n",
    "        record['keywords'] =  entry['author-keywords'].split(';')\n",
    "    if 'journal' in entry:\n",
    "        record['journal'] = entry['journal']\n",
    "    if 'issn' in entry:\n",
    "        record['issn'] = entry['issn']\n",
    "    if 'language' in entry:\n",
    "        record['lang'] = entry['language'] \n",
    "    if 'affiliation' in entry:\n",
    "        record['affiliation'] = getAffiliationWOS(entry['affiliation'])\n",
    "        record['affiliation_pais'] = getCountry(entry['affiliation'])\n",
    "    if 'year' in entry:\n",
    "        record['year'] = entry['year']\n",
    "    if 'volume' in entry:\n",
    "        record['volume'] = entry['volume']\n",
    "    if  'note' in entry:\n",
    "        record['number-of-cited-references'] = getReferencesScopus(entry['note'])\n",
    "    if 'references' in entry:\n",
    "        record['cited-references'] = entry['references'].split('; ')\n",
    "    records_scopus.append(record)\n",
    "print(len(records_scopus))"
   ]
  },
  {
   "cell_type": "markdown",
   "metadata": {},
   "source": [
    "## Parsing GoogleBooks"
   ]
  },
  {
   "cell_type": "code",
   "execution_count": 51,
   "metadata": {},
   "outputs": [],
   "source": [
    "import json\n",
    "import ast\n",
    "\n",
    "records_google_books = []"
   ]
  },
  {
   "cell_type": "code",
   "execution_count": 52,
   "metadata": {},
   "outputs": [
    {
     "name": "stdout",
     "output_type": "stream",
     "text": [
      "2881\n",
      "3097\n",
      "3455\n",
      "3706\n",
      "4777\n",
      "4827\n",
      "5797\n",
      "5846\n",
      "6015\n"
     ]
    }
   ],
   "source": [
    "f = open('data/google.json', 'r')\n",
    "lines  = f.readlines()\n",
    "f.close()\n",
    "\n",
    "i=0\n",
    "data = []\n",
    "for t in lines:\n",
    "    i = 1 + i\n",
    "    t = t.strip()[:len(t)-2]\n",
    "    t = t.replace(\"False\", \"'False'\")\n",
    "    t = t.replace(\"True\", \"'True'\")\n",
    "    try:\n",
    "        jsondata = ast.literal_eval(t)\n",
    "        data.append(jsondata)\n",
    "    except:\n",
    "        print (i)"
   ]
  },
  {
   "cell_type": "code",
   "execution_count": 53,
   "metadata": {},
   "outputs": [
    {
     "data": {
      "text/plain": [
       "1895"
      ]
     },
     "execution_count": 53,
     "metadata": {},
     "output_type": "execute_result"
    }
   ],
   "source": [
    "bibs = []\n",
    "lang  = {'en':'English', 'es':'Spanish', 'it':'Italian', 'ru':'Russian', 'pt':'Portuguese',\n",
    "         'pt-BR':'Portuguese', 'de':'German', 'fr':'French', 'ca':'Spanish', 'gl':'Spanish', 'pl':'Polish', 'nl':'Deutch'}\n",
    "\n",
    "for idx, book in enumerate(data):\n",
    "        record = { 'id': '',\n",
    "               'title': '',\n",
    "               'type':'',\n",
    "               'abstract':'', \n",
    "               'author': '',\n",
    "               'country_publication':'',\n",
    "               'publisher':'',\n",
    "               'keywords':'',\n",
    "               'keywords-plus':'',\n",
    "               'journal':'',\n",
    "               'issn':'',\n",
    "               'lang':'',\n",
    "               'categories':'',\n",
    "               'affiliation':'',\n",
    "               'affiliation_pais': '',\n",
    "               'eissn':'',\n",
    "               'year': '',\n",
    "               'volume':'',\n",
    "               'usage':'',\n",
    "               'research-areas':'',\n",
    "               'number-of-cited-references':'',\n",
    "               'cited-references':'',\n",
    "               'link':'',\n",
    "               'source':'Google Books'    \n",
    "             }\n",
    "        \n",
    "        ID = book['id']\n",
    "        if ID in bibs or 'authors' not in book['volumeInfo']:\n",
    "            continue\n",
    "        record['id'] = ID\n",
    "        record['author'] =  book['volumeInfo']['authors']\n",
    "        record['journal'] =  'Google Books'\n",
    "        record['title'] =  book['volumeInfo']['title']\n",
    "        record['type'] =  book['volumeInfo']['printType']\n",
    "        if'description' in book['volumeInfo']:\n",
    "             record['abstract'] = book['volumeInfo']['description']\n",
    "        elif 'searchInfo' in book and 'textSnippet' in book['searchInfo']:\n",
    "             record['abstract'] = book['searchInfo']['textSnippet'] \n",
    "        if 'publisher' in book['volumeInfo']:\n",
    "             record['publisher'] =  book['volumeInfo']['publisher']\n",
    "        if 'publishedDate' in book['volumeInfo']:\n",
    "            record['year'] =   book['volumeInfo']['publishedDate'][:4]\n",
    "        record['link'] = book['accessInfo']['webReaderLink']\n",
    "        isbns = []\n",
    "        if 'industryIdentifiers' in book['volumeInfo']:\n",
    "            for i in  book['volumeInfo']['industryIdentifiers']:\n",
    "                isbns.append(i['identifier'])\n",
    "        record['issn'] = isbns\n",
    "\n",
    "        record['lang'] = lang[book['volumeInfo']['language']]    \n",
    "\n",
    "        bibs.append(ID)\n",
    "        records_google_books.append(record)\n",
    "        \n",
    "len(records_google_books)   "
   ]
  },
  {
   "cell_type": "code",
   "execution_count": 54,
   "metadata": {},
   "outputs": [
    {
     "data": {
      "text/plain": [
       "9169"
      ]
     },
     "execution_count": 54,
     "metadata": {},
     "output_type": "execute_result"
    }
   ],
   "source": [
    "records = records_google_books + records_scopus + records_wos\n",
    "len(records)"
   ]
  },
  {
   "cell_type": "code",
   "execution_count": 55,
   "metadata": {},
   "outputs": [],
   "source": [
    "def cleanRecords(records):\n",
    "    res = []\n",
    "    for r in records:\n",
    "        if r['lang']  in ['English', 'Spanish']:\n",
    "            res.append(r)\n",
    "    return res"
   ]
  },
  {
   "cell_type": "code",
   "execution_count": 56,
   "metadata": {},
   "outputs": [
    {
     "data": {
      "text/plain": [
       "8277"
      ]
     },
     "execution_count": 56,
     "metadata": {},
     "output_type": "execute_result"
    }
   ],
   "source": [
    "records = cleanRecords(records)\n",
    "len(records)"
   ]
  },
  {
   "cell_type": "code",
   "execution_count": 57,
   "metadata": {},
   "outputs": [],
   "source": [
    "import csv\n",
    "with open('data/records_bibs.csv','w') as f:\n",
    "    w = csv.writer(f, delimiter = \"|\")\n",
    "    w.writerow(records[0].keys())\n",
    "    for r in records:   \n",
    "        w.writerow(r.values())"
   ]
  },
  {
   "cell_type": "code",
   "execution_count": 58,
   "metadata": {},
   "outputs": [],
   "source": [
    "import pandas as pd\n",
    "df = pd.read_csv('data/records_bibs.csv', delimiter='|')\n"
   ]
  },
  {
   "cell_type": "code",
   "execution_count": 59,
   "metadata": {},
   "outputs": [
    {
     "data": {
      "text/html": [
       "<div>\n",
       "<style scoped>\n",
       "    .dataframe tbody tr th:only-of-type {\n",
       "        vertical-align: middle;\n",
       "    }\n",
       "\n",
       "    .dataframe tbody tr th {\n",
       "        vertical-align: top;\n",
       "    }\n",
       "\n",
       "    .dataframe thead th {\n",
       "        text-align: right;\n",
       "    }\n",
       "</style>\n",
       "<table border=\"1\" class=\"dataframe\">\n",
       "  <thead>\n",
       "    <tr style=\"text-align: right;\">\n",
       "      <th></th>\n",
       "      <th>link</th>\n",
       "      <th>country_publication</th>\n",
       "      <th>number-of-cited-references</th>\n",
       "      <th>affiliation</th>\n",
       "      <th>research-areas</th>\n",
       "      <th>publisher</th>\n",
       "      <th>type</th>\n",
       "      <th>volume</th>\n",
       "      <th>keywords-plus</th>\n",
       "      <th>keywords</th>\n",
       "      <th>...</th>\n",
       "      <th>id</th>\n",
       "      <th>categories</th>\n",
       "      <th>issn</th>\n",
       "      <th>affiliation_pais</th>\n",
       "      <th>cited-references</th>\n",
       "      <th>abstract</th>\n",
       "      <th>source</th>\n",
       "      <th>journal</th>\n",
       "      <th>author</th>\n",
       "      <th>title</th>\n",
       "    </tr>\n",
       "  </thead>\n",
       "  <tbody>\n",
       "    <tr>\n",
       "      <th>0</th>\n",
       "      <td>http://play.google.com/books/reader?id=AzXDAwA...</td>\n",
       "      <td>NaN</td>\n",
       "      <td>NaN</td>\n",
       "      <td>NaN</td>\n",
       "      <td>NaN</td>\n",
       "      <td>The Stationery Office</td>\n",
       "      <td>BOOK</td>\n",
       "      <td>NaN</td>\n",
       "      <td>NaN</td>\n",
       "      <td>NaN</td>\n",
       "      <td>...</td>\n",
       "      <td>AzXDAwAAQBAJ</td>\n",
       "      <td>NaN</td>\n",
       "      <td>['9780108554506', '0108554503']</td>\n",
       "      <td>NaN</td>\n",
       "      <td>NaN</td>\n",
       "      <td>Negotiations on an historic trade deal between...</td>\n",
       "      <td>Google Books</td>\n",
       "      <td>Google Books</td>\n",
       "      <td>['Stationery Office (Great Britain)']</td>\n",
       "      <td>HL 179 - The Transatlantic Trade and Investmen...</td>\n",
       "    </tr>\n",
       "    <tr>\n",
       "      <th>1</th>\n",
       "      <td>http://play.google.com/books/reader?id=qkh1AwA...</td>\n",
       "      <td>NaN</td>\n",
       "      <td>NaN</td>\n",
       "      <td>NaN</td>\n",
       "      <td>NaN</td>\n",
       "      <td>Routledge</td>\n",
       "      <td>BOOK</td>\n",
       "      <td>NaN</td>\n",
       "      <td>NaN</td>\n",
       "      <td>NaN</td>\n",
       "      <td>...</td>\n",
       "      <td>qkh1AwAAQBAJ</td>\n",
       "      <td>NaN</td>\n",
       "      <td>['9781135010935', '1135010935']</td>\n",
       "      <td>NaN</td>\n",
       "      <td>NaN</td>\n",
       "      <td>In today’s complex and interconnected world, s...</td>\n",
       "      <td>Google Books</td>\n",
       "      <td>Google Books</td>\n",
       "      <td>['Gabriella Paár-Jákli']</td>\n",
       "      <td>Networked Governance and Transatlantic Relations</td>\n",
       "    </tr>\n",
       "    <tr>\n",
       "      <th>2</th>\n",
       "      <td>http://play.google.com/books/reader?id=EWJ2AwA...</td>\n",
       "      <td>NaN</td>\n",
       "      <td>NaN</td>\n",
       "      <td>NaN</td>\n",
       "      <td>NaN</td>\n",
       "      <td>Routledge</td>\n",
       "      <td>BOOK</td>\n",
       "      <td>NaN</td>\n",
       "      <td>NaN</td>\n",
       "      <td>NaN</td>\n",
       "      <td>...</td>\n",
       "      <td>EWJ2AwAAQBAJ</td>\n",
       "      <td>NaN</td>\n",
       "      <td>['9781135010928', '1135010927']</td>\n",
       "      <td>NaN</td>\n",
       "      <td>NaN</td>\n",
       "      <td>In today’s complex and interconnected world, s...</td>\n",
       "      <td>Google Books</td>\n",
       "      <td>Google Books</td>\n",
       "      <td>['Gabriella Paar-Jakli']</td>\n",
       "      <td>Networked Governance and Transatlantic Relations</td>\n",
       "    </tr>\n",
       "    <tr>\n",
       "      <th>3</th>\n",
       "      <td>http://play.google.com/books/reader?id=hwaMAwA...</td>\n",
       "      <td>NaN</td>\n",
       "      <td>NaN</td>\n",
       "      <td>NaN</td>\n",
       "      <td>NaN</td>\n",
       "      <td>University of Alabama Press</td>\n",
       "      <td>BOOK</td>\n",
       "      <td>NaN</td>\n",
       "      <td>NaN</td>\n",
       "      <td>NaN</td>\n",
       "      <td>...</td>\n",
       "      <td>hwaMAwAAQBAJ</td>\n",
       "      <td>NaN</td>\n",
       "      <td>['9780817357788', '0817357785']</td>\n",
       "      <td>NaN</td>\n",
       "      <td>NaN</td>\n",
       "      <td>A Confluence of Transatlantic Networks: Elites...</td>\n",
       "      <td>Google Books</td>\n",
       "      <td>Google Books</td>\n",
       "      <td>['Laura Jarnagin']</td>\n",
       "      <td>A Confluence of Transatlantic Networks</td>\n",
       "    </tr>\n",
       "    <tr>\n",
       "      <th>4</th>\n",
       "      <td>http://play.google.com/books/reader?id=JrU5AwA...</td>\n",
       "      <td>NaN</td>\n",
       "      <td>NaN</td>\n",
       "      <td>NaN</td>\n",
       "      <td>NaN</td>\n",
       "      <td>Springer</td>\n",
       "      <td>BOOK</td>\n",
       "      <td>NaN</td>\n",
       "      <td>NaN</td>\n",
       "      <td>NaN</td>\n",
       "      <td>...</td>\n",
       "      <td>JrU5AwAAQBAJ</td>\n",
       "      <td>NaN</td>\n",
       "      <td>['9781137345752', '1137345756']</td>\n",
       "      <td>NaN</td>\n",
       "      <td>NaN</td>\n",
       "      <td>Beliefs held by US and European elites about u...</td>\n",
       "      <td>Google Books</td>\n",
       "      <td>Google Books</td>\n",
       "      <td>['H. Best', 'J. Higley']</td>\n",
       "      <td>Political Elites in the Transatlantic Crisis</td>\n",
       "    </tr>\n",
       "  </tbody>\n",
       "</table>\n",
       "<p>5 rows × 24 columns</p>\n",
       "</div>"
      ],
      "text/plain": [
       "                                                link country_publication  \\\n",
       "0  http://play.google.com/books/reader?id=AzXDAwA...                 NaN   \n",
       "1  http://play.google.com/books/reader?id=qkh1AwA...                 NaN   \n",
       "2  http://play.google.com/books/reader?id=EWJ2AwA...                 NaN   \n",
       "3  http://play.google.com/books/reader?id=hwaMAwA...                 NaN   \n",
       "4  http://play.google.com/books/reader?id=JrU5AwA...                 NaN   \n",
       "\n",
       "   number-of-cited-references affiliation research-areas  \\\n",
       "0                         NaN         NaN            NaN   \n",
       "1                         NaN         NaN            NaN   \n",
       "2                         NaN         NaN            NaN   \n",
       "3                         NaN         NaN            NaN   \n",
       "4                         NaN         NaN            NaN   \n",
       "\n",
       "                     publisher  type volume keywords-plus keywords  \\\n",
       "0        The Stationery Office  BOOK    NaN           NaN      NaN   \n",
       "1                    Routledge  BOOK    NaN           NaN      NaN   \n",
       "2                    Routledge  BOOK    NaN           NaN      NaN   \n",
       "3  University of Alabama Press  BOOK    NaN           NaN      NaN   \n",
       "4                     Springer  BOOK    NaN           NaN      NaN   \n",
       "\n",
       "                         ...                                    id categories  \\\n",
       "0                        ...                          AzXDAwAAQBAJ        NaN   \n",
       "1                        ...                          qkh1AwAAQBAJ        NaN   \n",
       "2                        ...                          EWJ2AwAAQBAJ        NaN   \n",
       "3                        ...                          hwaMAwAAQBAJ        NaN   \n",
       "4                        ...                          JrU5AwAAQBAJ        NaN   \n",
       "\n",
       "                              issn  affiliation_pais cited-references  \\\n",
       "0  ['9780108554506', '0108554503']               NaN              NaN   \n",
       "1  ['9781135010935', '1135010935']               NaN              NaN   \n",
       "2  ['9781135010928', '1135010927']               NaN              NaN   \n",
       "3  ['9780817357788', '0817357785']               NaN              NaN   \n",
       "4  ['9781137345752', '1137345756']               NaN              NaN   \n",
       "\n",
       "                                            abstract        source  \\\n",
       "0  Negotiations on an historic trade deal between...  Google Books   \n",
       "1  In today’s complex and interconnected world, s...  Google Books   \n",
       "2  In today’s complex and interconnected world, s...  Google Books   \n",
       "3  A Confluence of Transatlantic Networks: Elites...  Google Books   \n",
       "4  Beliefs held by US and European elites about u...  Google Books   \n",
       "\n",
       "        journal                                 author  \\\n",
       "0  Google Books  ['Stationery Office (Great Britain)']   \n",
       "1  Google Books               ['Gabriella Paár-Jákli']   \n",
       "2  Google Books               ['Gabriella Paar-Jakli']   \n",
       "3  Google Books                     ['Laura Jarnagin']   \n",
       "4  Google Books               ['H. Best', 'J. Higley']   \n",
       "\n",
       "                                               title  \n",
       "0  HL 179 - The Transatlantic Trade and Investmen...  \n",
       "1   Networked Governance and Transatlantic Relations  \n",
       "2   Networked Governance and Transatlantic Relations  \n",
       "3             A Confluence of Transatlantic Networks  \n",
       "4       Political Elites in the Transatlantic Crisis  \n",
       "\n",
       "[5 rows x 24 columns]"
      ]
     },
     "execution_count": 59,
     "metadata": {},
     "output_type": "execute_result"
    }
   ],
   "source": [
    "df.head()"
   ]
  },
  {
   "cell_type": "code",
   "execution_count": 60,
   "metadata": {},
   "outputs": [
    {
     "data": {
      "text/plain": [
       "array(['English', 'Spanish'], dtype=object)"
      ]
     },
     "execution_count": 60,
     "metadata": {},
     "output_type": "execute_result"
    }
   ],
   "source": [
    "df.lang.unique()"
   ]
  }
 ],
 "metadata": {
  "kernelspec": {
   "display_name": "Python 3",
   "language": "python",
   "name": "python3"
  },
  "language_info": {
   "codemirror_mode": {
    "name": "ipython",
    "version": 3
   },
   "file_extension": ".py",
   "mimetype": "text/x-python",
   "name": "python",
   "nbconvert_exporter": "python",
   "pygments_lexer": "ipython3",
   "version": "3.5.2"
  }
 },
 "nbformat": 4,
 "nbformat_minor": 2
}
