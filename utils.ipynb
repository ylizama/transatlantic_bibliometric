{
 "cells": [
  {
   "cell_type": "code",
   "execution_count": 2,
   "metadata": {},
   "outputs": [],
   "source": [
    "import json\n",
    "import geocoder\n",
    "import pandas as pd"
   ]
  },
  {
   "cell_type": "markdown",
   "metadata": {},
   "source": [
    "## Countries"
   ]
  },
  {
   "cell_type": "code",
   "execution_count": 81,
   "metadata": {
    "collapsed": true
   },
   "outputs": [],
   "source": [
    "data = json.load(open('../lexicon/countries.json'))"
   ]
  },
  {
   "cell_type": "code",
   "execution_count": 20,
   "metadata": {
    "collapsed": true
   },
   "outputs": [],
   "source": [
    "countries = {}\n",
    "for l in data:\n",
    "    try:\n",
    "          countries[l['name_en']] = l['name_es']\n",
    "    except:\n",
    "        print(l)"
   ]
  },
  {
   "cell_type": "code",
   "execution_count": 21,
   "metadata": {
    "collapsed": true
   },
   "outputs": [],
   "source": [
    "with open('../lexicon/world_countries_en_es.json', 'w') as fp:\n",
    "    json.dump(countries, fp)    "
   ]
  },
  {
   "cell_type": "code",
   "execution_count": null,
   "metadata": {
    "collapsed": true
   },
   "outputs": [],
   "source": []
  },
  {
   "cell_type": "markdown",
   "metadata": {},
   "source": [
    "## GeoCODE"
   ]
  },
  {
   "cell_type": "code",
   "execution_count": 3,
   "metadata": {},
   "outputs": [],
   "source": [
    "df = pd.read_csv('data/affiliations.csv', delimiter='|')"
   ]
  },
  {
   "cell_type": "code",
   "execution_count": 4,
   "metadata": {
    "collapsed": true
   },
   "outputs": [],
   "source": [
    "df['latlong'] = [[] for x in range(len(df))]\n"
   ]
  },
  {
   "cell_type": "code",
   "execution_count": 20,
   "metadata": {
    "scrolled": true
   },
   "outputs": [],
   "source": [
    "dict_geo = {}\n",
    "for i, r in df.iterrows():\n",
    "    if r['latlong']:\n",
    "        dict_geo[i] = [r['Number'], r['latlong'][0], r['latlong'][1], r['affiliation_pais']]\n",
    "    else:\n",
    "        dict_geo[i] = [r['Number'], '', '', r['affiliation_pais']]"
   ]
  },
  {
   "cell_type": "code",
   "execution_count": 22,
   "metadata": {},
   "outputs": [],
   "source": [
    "def updat_geo(df):\n",
    "    for i, r in df.iterrows():\n",
    "        if r['latlong']:\n",
    "            dict_geo[i] = [r['Number'], r['latlong'][0], r['latlong'][1], r['affiliation_pais']]\n",
    "        else:\n",
    "            dict_geo[i] = [r['Number'], '', '', r['affiliation_pais']]"
   ]
  },
  {
   "cell_type": "code",
   "execution_count": 30,
   "metadata": {
    "collapsed": true,
    "scrolled": true
   },
   "outputs": [],
   "source": [
    "def geocodePlace(df):\n",
    "    try:\n",
    "        for i, row in df.iterrows():\n",
    "            if type(i) == float:\n",
    "                continue\n",
    "            g = geocoder.google(i.strip())\n",
    "            df.at[i, 'latlong'] = g.latlng\n",
    "            if(g.latlng):\n",
    "                df.at[i, 'affiliation_pais'] = g.country_long\n",
    "            print( i, df.at[i, 'latlong'], g.country_long)\n",
    "    except:   \n",
    "        print( i)\n",
    "    return df.reset_index().set_index('affiliation')"
   ]
  },
  {
   "cell_type": "code",
   "execution_count": 31,
   "metadata": {
    "scrolled": true
   },
   "outputs": [
    {
     "name": "stdout",
     "output_type": "stream",
     "text": [
      "Harvard University [42.3770029, -71.11666009999999] United States\n",
      "University North Carolina [35.9049122, -79.0469134] United States\n",
      "New York University [40.72951339999999, -73.9964609] United States\n",
      "University of Kent [51.29846690000001, 1.0709944] United Kingdom\n",
      "European University Inst [43.803079, 11.282959] Italy\n",
      "University Warwick [52.3792525, -1.5614704] United Kingdom\n",
      "University Exeter [50.7371369, -3.5351475] United Kingdom\n",
      "University of The West of England [51.5001344, -2.5475301] United Kingdom\n",
      "Manchester Metropolitan University [53.4709747, -2.2387641] United Kingdom\n",
      "Freie Universityersität Berlin None None\n",
      "University Bristol [51.4584172, -2.6029792] United Kingdom\n",
      "University of Connecticut [41.8077414, -72.2539805] United States\n",
      "Baylor University [31.549841, -97.1143146] United States\n",
      "University Glasgow [55.87212109999999, -4.288200499999999] United Kingdom\n",
      "University Gothenburg [57.6981719, 11.971878] Sweden\n",
      "Carnegie Mellon University [40.4428081, -79.94301279999999] United States\n",
      "Tulane University [29.9403477, -90.12072789999999] United States\n",
      "Brandeis University [42.364989, -71.258663] United States\n",
      "Southern Illinois University [37.7090577, -89.22491339999999] United States\n",
      "University of Waterloo [43.4722854, -80.5448576] Canada\n",
      "University of Roma Tre [41.862585, 12.479095] Italy\n",
      "University Reading [51.4414205, -0.9418157] United Kingdom\n",
      "Ball State University [40.2061028, -85.40698599999999] United States\n",
      "Universityersité Laval None None\n",
      "University of Gothenburg [57.6981719, 11.971878] Sweden\n",
      "Liverpool Hope University [53.3908007, -2.8922988] United Kingdom\n",
      "Norwegian Defence University College None None\n",
      "Universityersité De Montréal None None\n",
      "Glasgow Caledonian University [55.8661538, -4.2508041] United Kingdom\n",
      "Universityersitat De València None None\n",
      "Humboldtuniversityersität Zu Berlin None None\n",
      "Waseda University [35.7087334, 139.7196485] Japan\n",
      "Freie Universityersität None None\n",
      "Charles University [50.0871106, 14.4234889] Czechia\n",
      "University of Groningen [53.2192634, 6.562987199999999] Netherlands\n",
      "Stellenbosch University [-33.9328078, 18.864447] South Africa\n",
      "University of Vermont [44.4778528, -73.1964637] United States\n",
      "Colgate University [42.8166152, -75.5401764] United States\n",
      "Hebrew University Jerusalem [31.7945578, 35.2414009] None\n",
      "Universityersité Du Sud Toulonvar None None\n",
      "Universityersité De Versailles Saintquentinenyvelines [48.799627, 2.1415644] France\n",
      "Aixmarseille Universityersité None None\n",
      "Necmettin Erbakan University [37.8786688, 32.4844151] Turkey\n",
      "Rmit University [-37.80792, 144.9645015] Australia\n",
      "Ludwigmaximiliansuniversityersität München None None\n",
      "University Manitoba [49.8075008, -97.1366259] Canada\n",
      "Literatura Hispanoamericana De Ia University None None\n",
      "Lancaster University Law School [39.714204, -82.59958499999999] United States\n",
      "Universityersité De Nice Sophia Antipolis None None\n",
      "University of Bremen [53.10675800000001, 8.852039999999999] Germany\n",
      "University of Athens And Hellenic Foundation None None\n",
      "Universityersita Del Piemonte Orientale None None\n",
      "Universityersität Münster None None\n",
      "University Nacl Cordoba None None\n",
      "Universityersität Zu Köln None None\n",
      "Universityersität Marburg None None\n",
      "Historisches Seminar Der Philippsuniversityersität None None\n",
      "Cașfoscari University None None\n",
      "Montana State University Billings [45.7968435, -108.5220124] United States\n",
      "Georgaugustuniversityersity None None\n",
      "Germany University Parisdauphine None None\n",
      "New York University School of Law [40.730537, -73.999499] United States\n",
      "Grenoble Universityersité None None\n",
      "Alexander Dubèek University of Trenèín None None\n",
      "California State University Northridge [34.2425947, -118.5280687] United States\n",
      "Goetheuniversityersität None None\n",
      "Hebrew University [31.7945578, 35.2414009] None\n",
      "Bahcesehir University [41.042072, 29.0090151] Turkey\n",
      "Belgium Radboud University of Nijmegen None None\n",
      "Klagenfurt University Fac Interdisciplinary Studies None None\n",
      "Denison University [40.0734583, -82.5223309] United States\n",
      "Fatih University [41.0126037, 28.961838] Turkey\n",
      "Domaine Universityersitaire None None\n",
      "Fl 33149 Usa University Miami [25.732401, -80.162762] United States\n",
      "Czech Republic Saltzman Institute of War And Peace Studies At Columbia University None None\n",
      "Danube University Krems [48.4081548, 15.5862305] Austria\n",
      "Eberhardkarlsuniversityersität None None\n",
      "Economics Istanbul Teknik Universityersitesi Istanbul Turkey None None\n",
      "Education University of Hong Kong [22.4690426, 114.1943533] Hong Kong\n",
      "Europauniversityersität Viadrina None None\n",
      "Essca School of Management France Maastricht University None None\n",
      "Eu And International Law At Leiden University None None\n",
      "European Universityerstity Institute None None\n",
      "J W Goetheuniversityersität None None\n",
      "Justusliebiguniversityersität None None\n",
      "J W Guniversityersität Frankfurt Am Main None None\n",
      "Mae Universityersité De Paris X None None\n",
      "Macquarie University And Vu University Amsterdam None None\n",
      "Ludwigmaximiliansuniversityersität None None\n",
      "Centre For Transdisciplinary Development Studiesuniversityersity of Trásosmontes And Alto Douro None None\n",
      "Ces Universityersidade De Coimbra None None\n",
      "Indiana State University [39.4705314, -87.41037360000001] United States\n",
      "Columbia University School of Lawny [40.8070804, -73.96028969999999] United States\n",
      "Loughborough University Technol [52.769227, -1.224632] United Kingdom\n",
      "University Westminster [51.5168133, -0.143205] United Kingdom\n",
      "University W England [43.4582904, -70.3865402] United States\n",
      "University Trieste [45.658667, 13.7934477] Italy\n",
      "University Toulouse 2 [43.5795225, 1.4032247] France\n",
      "University of Applied Sciences [43.660131, -79.3959928] Canada\n",
      "University of Dundee [56.45824469999999, -2.9821428] United Kingdom\n",
      "University of Deusto Ud [43.2712452, -2.9385576] Spain\n",
      "University of Bradford [53.791435, -1.7661746] United Kingdom\n",
      "University of Berlin [52.4525264, 13.2896787] Germany\n",
      "University Portland [45.5732046, -122.7275712] United States\n",
      "University Politecn Valencia [39.48105899999999, -0.3410670000000001] Spain\n",
      "University Philippines Visayas [10.64204, 122.230829] Philippines\n",
      "University Paris 1 Paris 4 [48.8469373, 2.344468] France\n",
      "University Paris 05 [48.8484556, 2.3432774] France\n",
      "University Sci Technol Lille Lille 1 [50.609049, 3.138063] France\n",
      "Universityersitätsstrasse 10 None None\n",
      "Universityersität München None None\n",
      "Universityersität Leipzig None None\n",
      "Universityersitá Commerciale Luigi Bocconi None None\n",
      "Universityersità Degli Studi Lorientale None None\n",
      "Universityersité De Fribourg None None\n",
      "Universityersité De Lyon None None\n",
      "Universityersité De Lyon Ii None None\n",
      "Universityersité De Savoie None None\n",
      "Universityersité Sorbonne Nouvelle In Paris None None\n",
      "Universityersité Sainteanne None None\n",
      "Universityersité Inrs None None\n",
      "University of New England [43.4582904, -70.3865402] United States\n",
      "University of Nancy2L2Slasures None None\n",
      "University of Madeira [32.6499611, -16.9094077] Portugal\n",
      "University of Leipzig [51.3385738, 12.3784615] Germany\n",
      "University of The West of Scotland [55.780579, -4.048151] United Kingdom\n",
      "University of Surrey [51.2421839, -0.5905421] United Kingdom\n",
      "University of Southern Mississippigulf Coast [30.3531529, -89.13746259999999] United States\n",
      "Technische Universityersität None None\n",
      "State University of New York At Fredonia [42.4538665, -79.34036329999999] United States\n",
      "State University Ghent [51.0465619, 3.727918099999999] Belgium\n",
      "St Marys University [29.4523378, -98.5640981] United States\n",
      "St Louis University [38.6354598, -90.23382319999999] United States\n",
      "Un University Inst Comparat Reg Integrat Studies Unu Cr None None\n",
      "Trencin University Alexander Dubcek Trencin [48.898708, 18.047361] Slovakia\n",
      "Trencianska University Alexandra Dubceka None None\n",
      "Political Science Universityersität Mannheim And Universityersität Osnabrück None None\n",
      "Philippsuniversityersität None None\n",
      "Old Dominion Universityersityva None None\n",
      "Redeemer University College [43.207185, -79.948979] Canada\n",
      "Sociology At Mcgill University [45.50478469999999, -73.5771511] Canada\n",
      "Siedlce University of Natural Sciences And Humanities [52.1696131, 22.2842795] Poland\n",
      "Russian Federation Carleton University None None\n",
      "Ruprechtkarlsuniversityersität None None\n",
      "United Kingdom Australian National University [-35.2776999, 149.118527] Australia\n"
     ]
    },
    {
     "name": "stdout",
     "output_type": "stream",
     "text": [
      "University Nis [43.3229647, 21.8932771] Serbia\n",
      "University Nacl Lujan None None\n",
      "University Nacl La Plata None None\n",
      "University Nacional De Misiones Unam [-27.4347506, -55.8877442] Argentina\n",
      "University Munster [51.9635705, 7.6131826] Germany\n",
      "University Greenwich [51.4825629, -0.006756499999999999] United Kingdom\n",
      "University Cambridge Christs Coll [52.2062306, 0.1224627] United Kingdom\n",
      "University Auckland [-36.8523378, 174.7691073] New Zealand\n",
      "University Arizona [32.2318851, -110.9501094] United States\n",
      "United States University of Chicago [41.7886079, -87.5987133] United States\n"
     ]
    }
   ],
   "source": [
    "df = geocodePlace(df.loc[df['latlong'].isnull()])\n",
    "updat_geo(df)"
   ]
  },
  {
   "cell_type": "code",
   "execution_count": 32,
   "metadata": {
    "scrolled": true
   },
   "outputs": [
    {
     "data": {
      "text/plain": [
       "66"
      ]
     },
     "execution_count": 32,
     "metadata": {},
     "output_type": "execute_result"
    }
   ],
   "source": [
    "len(df.loc[df['latlong'].isnull()])"
   ]
  },
  {
   "cell_type": "code",
   "execution_count": 39,
   "metadata": {},
   "outputs": [
    {
     "name": "stdout",
     "output_type": "stream",
     "text": [
      "Goetheuniversityersität [1, '', '', nan]\n",
      "Universityersität Zu Köln [2, '', '', nan]\n",
      "Universityersité De Savoie [1, '', '', nan]\n",
      "Domaine Universityersitaire [1, '', '', nan]\n",
      "Macquarie University And Vu University Amsterdam [1, '', '', nan]\n",
      "Universityersité Sainteanne [1, '', '', nan]\n",
      "Norwegian Defence University College [4, '', '', nan]\n",
      "Belgium Radboud University of Nijmegen [1, '', '', nan]\n",
      "Klagenfurt University Fac Interdisciplinary Studies [1, '', '', nan]\n",
      "Universityersitá Commerciale Luigi Bocconi [1, '', '', nan]\n",
      "Universityersité Inrs [1, '', '', nan]\n",
      "Universityersität Marburg [2, '', '', nan]\n",
      "Historisches Seminar Der Philippsuniversityersität [1, '', '', nan]\n",
      "J W Goetheuniversityersität [1, '', '', nan]\n",
      "Justusliebiguniversityersität [1, '', '', nan]\n",
      "Alexander Dubèek University of Trenèín [1, '', '', nan]\n",
      "Universityersität Leipzig [1, '', '', nan]\n",
      "Ruprechtkarlsuniversityersität [1, '', '', nan]\n",
      "Grenoble Universityersité [1, '', '', nan]\n",
      "University Nacl Lujan [1, '', '', nan]\n",
      "Czech Republic Saltzman Institute of War And Peace Studies At Columbia University [1, '', '', nan]\n",
      "Philippsuniversityersität [1, '', '', nan]\n",
      "Freie Universityersität Berlin [8, '', '', nan]\n",
      "University of Nancy2L2Slasures [1, '', '', nan]\n",
      "Freie Universityersität [3, '', '', nan]\n",
      "European Universityerstity Institute [1, '', '', nan]\n",
      "University Nacl Cordoba [2, '', '', nan]\n",
      "Universityersität München [1, '', '', nan]\n",
      "Un University Inst Comparat Reg Integrat Studies Unu Cr [1, '', '', nan]\n",
      "Mae Universityersité De Paris X [1, '', '', nan]\n",
      "Trencianska University Alexandra Dubceka [1, '', '', nan]\n",
      "Literatura Hispanoamericana De Ia University [2, '', '', nan]\n",
      "Universityersité Sorbonne Nouvelle In Paris [1, '', '', nan]\n",
      "J W Guniversityersität Frankfurt Am Main [1, '', '', nan]\n",
      "Germany University Parisdauphine [1, '', '', nan]\n",
      "Cașfoscari University [1, '', '', nan]\n",
      "Political Science Universityersität Mannheim And Universityersität Osnabrück [1, '', '', nan]\n",
      "Technische Universityersität [1, '', '', nan]\n",
      "Europauniversityersität Viadrina [1, '', '', nan]\n",
      "Ces Universityersidade De Coimbra [1, '', '', nan]\n",
      "Humboldtuniversityersität Zu Berlin [3, '', '', nan]\n",
      "Universityersité Du Sud Toulonvar [2, '', '', nan]\n",
      "Universityersitat De València [3, '', '', nan]\n",
      "Ludwigmaximiliansuniversityersität [1, '', '', nan]\n",
      "Ludwigmaximiliansuniversityersität München [2, '', '', nan]\n",
      "Universityersität Münster [2, '', '', nan]\n",
      "University Nacl La Plata [1, '', '', nan]\n",
      "Universityersita Del Piemonte Orientale [2, '', '', nan]\n",
      "Russian Federation Carleton University [1, '', '', nan]\n",
      "Eberhardkarlsuniversityersität [1, '', '', nan]\n",
      "Essca School of Management France Maastricht University [1, '', '', nan]\n",
      "Universityersitätsstrasse 10 [1, '', '', nan]\n",
      "Universityersité Laval [4, '', '', nan]\n",
      "Universityersité De Montréal [4, '', '', nan]\n",
      "Old Dominion Universityersityva [1, '', '', nan]\n",
      "Eu And International Law At Leiden University [1, '', '', nan]\n",
      "Economics Istanbul Teknik Universityersitesi Istanbul Turkey [1, '', '', nan]\n",
      "Universityersité De Lyon [1, '', '', nan]\n",
      "Georgaugustuniversityersity [1, '', '', nan]\n",
      "Universityersité De Fribourg [1, '', '', nan]\n",
      "Aixmarseille Universityersité [2, '', '', nan]\n",
      "Universityersité De Nice Sophia Antipolis [2, '', '', nan]\n",
      "Centre For Transdisciplinary Development Studiesuniversityersity of Trásosmontes And Alto Douro [1, '', '', nan]\n",
      "Universityersité De Lyon Ii [1, '', '', nan]\n",
      "University of Athens And Hellenic Foundation [2, '', '', nan]\n",
      "Universityersità Degli Studi Lorientale [1, '', '', nan]\n"
     ]
    },
    {
     "data": {
      "text/plain": [
       "66"
      ]
     },
     "execution_count": 39,
     "metadata": {},
     "output_type": "execute_result"
    }
   ],
   "source": []
  },
  {
   "cell_type": "code",
   "execution_count": 42,
   "metadata": {},
   "outputs": [],
   "source": [
    "dfs = pd.DataFrame(columns=['Number', 'lat', 'long', 'country'])\n",
    "for i in dict_geo.keys():\n",
    "    dfs.loc[i] = dict_geo[i]"
   ]
  },
  {
   "cell_type": "code",
   "execution_count": 46,
   "metadata": {},
   "outputs": [],
   "source": [
    "dfs.to_csv('data/affiliations.csv', sep='\\t')"
   ]
  },
  {
   "cell_type": "code",
   "execution_count": 4,
   "metadata": {},
   "outputs": [
    {
     "name": "stdout",
     "output_type": "stream",
     "text": [
      "None\n"
     ]
    }
   ],
   "source": [
    "g = geocoder.google('Routledge Taylor Francis Group')\n",
    "print(g.latlng)\n",
    "if(g.latlng):\n",
    "    print(g.country_long)\n",
    "         "
   ]
  },
  {
   "cell_type": "markdown",
   "metadata": {},
   "source": [
    "## GEOCODE COUNTRIES"
   ]
  },
  {
   "cell_type": "code",
   "execution_count": 23,
   "metadata": {},
   "outputs": [],
   "source": [
    "file = open('data/cou', 'r')\n",
    "cous = file.readlines()\n",
    "cous = [eval(c.strip()) for c in cous]"
   ]
  },
  {
   "cell_type": "code",
   "execution_count": 24,
   "metadata": {},
   "outputs": [],
   "source": [
    "cous = list(set(cous))\n",
    "dict_cous = {}"
   ]
  },
  {
   "cell_type": "code",
   "execution_count": 30,
   "metadata": {},
   "outputs": [],
   "source": [
    "for c in cous:\n",
    "    g = geocoder.google(c.strip())\n",
    "    if not g.latlng:\n",
    "        continue\n",
    "    lat = g.latlng [0]\n",
    "    long = g.latlng[1]\n",
    "    dict_cous[c] = [lat, long]\n",
    "    "
   ]
  },
  {
   "cell_type": "code",
   "execution_count": 31,
   "metadata": {},
   "outputs": [
    {
     "data": {
      "text/plain": [
       "{'Afghanistan': [33.93911, 67.709953],\n",
       " 'Antarctica': [-82.862752, 135],\n",
       " 'Armenia': [40.069099, 45.038189],\n",
       " 'Belarus': [53.709807, 27.953389],\n",
       " 'Bermuda': [32.3078, -64.7505],\n",
       " 'Botswana': [-22.328474, 24.684866],\n",
       " 'Brunei Darussalam': [4.535277, 114.727669],\n",
       " 'Cameroon': [7.369721999999999, 12.354722],\n",
       " 'Cape Verde': [16.5388, -23.0418],\n",
       " 'Congo': [-4.038333, 21.758664],\n",
       " 'Dominican Republic': [18.735693, -70.162651],\n",
       " 'Ecuador': [-1.831239, -78.18340599999999],\n",
       " 'Egypt': [26.820553, 30.802498],\n",
       " 'El Salvador': [13.794185, -88.89653],\n",
       " 'Ethiopia': [9.145000000000001, 40.489673],\n",
       " 'French Guiana': [3.933889, -53.125782],\n",
       " 'Gambia': [13.443182, -15.310139],\n",
       " 'Gibraltar': [36.140751, -5.353585],\n",
       " 'Greenland': [71.706936, -42.604303],\n",
       " 'Guadeloupe': [16.265, -61.55099999999999],\n",
       " 'Guatemala': [15.783471, -90.23075899999999],\n",
       " 'Guinea': [9.945587, -9.696645],\n",
       " 'Guinea-Bissau': [11.803749, -15.180413],\n",
       " 'Guyana': [4.860416, -58.93018],\n",
       " 'Haiti': [18.971187, -72.285215],\n",
       " 'Hong Kong': [22.396428, 114.109497],\n",
       " 'Iceland': [64.963051, -19.020835],\n",
       " 'Jersey': [49.214439, -2.13125],\n",
       " 'Latvia': [56.879635, 24.603189],\n",
       " 'Lebanon': [33.854721, 35.862285],\n",
       " 'Liberia': [6.428055, -9.429499000000002],\n",
       " 'Martinique': [14.641528, -61.024174],\n",
       " 'Mongolia': [46.862496, 103.846656],\n",
       " 'Montserrat': [16.742498, -62.187366],\n",
       " 'Mozambique': [-18.665695, 35.529562],\n",
       " 'Namibia': [-22.95764, 18.49041],\n",
       " 'Nicaragua': [12.865416, -85.207229],\n",
       " 'North Korea': [40.339852, 127.510093],\n",
       " 'Pakistan': [30.375321, 69.34511599999999],\n",
       " 'Panama': [8.537981, -80.782127],\n",
       " 'Philippines': [12.879721, 121.774017],\n",
       " 'Pitcairn': [-24.3767537, -128.3242376],\n",
       " 'Solomon Islands': [-9.64571, 160.156194],\n",
       " 'Somalia': [5.152149, 46.199616],\n",
       " 'Sri Lanka': [7.873053999999999, 80.77179699999999],\n",
       " 'Sudan': [12.862807, 30.217636],\n",
       " 'Togo': [8.619543, 0.824782],\n",
       " 'Tunisia': [33.886917, 9.537499],\n",
       " 'Uganda': [1.373333, 32.290275],\n",
       " 'Ukraine': [48.379433, 31.1655799],\n",
       " 'Uruguay': [-32.522779, -55.765835]}"
      ]
     },
     "execution_count": 31,
     "metadata": {},
     "output_type": "execute_result"
    }
   ],
   "source": [
    "dict_cous"
   ]
  },
  {
   "cell_type": "code",
   "execution_count": null,
   "metadata": {},
   "outputs": [],
   "source": []
  }
 ],
 "metadata": {
  "kernelspec": {
   "display_name": "Python 3",
   "language": "python",
   "name": "python3"
  },
  "language_info": {
   "codemirror_mode": {
    "name": "ipython",
    "version": 3
   },
   "file_extension": ".py",
   "mimetype": "text/x-python",
   "name": "python",
   "nbconvert_exporter": "python",
   "pygments_lexer": "ipython3",
   "version": "3.5.2"
  }
 },
 "nbformat": 4,
 "nbformat_minor": 2
}
